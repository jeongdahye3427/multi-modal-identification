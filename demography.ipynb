{
 "cells": [
  {
   "cell_type": "code",
   "execution_count": null,
   "metadata": {},
   "outputs": [],
   "source": [
    "import os\n",
    "import pandas as pd\n",
    "import numpy as np\n",
    "import glob\n",
    "from PIL import Image\n",
    "\n",
    "import matplotlib.pyplot as plt\n",
    "\n",
    "import json\n",
    "from deepface.extendedmodels import Age, Gender, Race, Emotion\n",
    "from deepface import DeepFace\n",
    "\n",
    "from keras.preprocessing.image import ImageDataGenerator\n",
    "from keras.utils import np_utils\n",
    "from keras.models import Sequential\n",
    "from keras.preprocessing.image import array_to_img, img_to_array, load_img\n",
    "from keras.layers import *\n",
    "from keras.callbacks import ModelCheckpoint, EarlyStopping\n",
    "\n",
    "from tensorflow import keras\n",
    "from os import path\n",
    "import tensorflow as tf\n",
    "from tensorflow import keras\n",
    "from sklearn.metrics import accuracy_score\n",
    "import sys"
   ]
  },
  {
   "cell_type": "code",
   "execution_count": null,
   "metadata": {},
   "outputs": [],
   "source": [
    "# demography 추출할 이미지 경로 정리\n",
    "train_img = os.listdir('./sample_images_mask/train/')\n",
    "trainImg_path = []\n",
    "for imgs in train_img:\n",
    "    img = os.listdir('./sample_images_mask/train/' + imgs)\n",
    "    for i in img:\n",
    "        trainImg_path.append('./sample_images_mask/train/' + imgs + '/' + i)\n",
    "\n",
    "test_img = os.listdir('./sample_images_mask/test/')\n",
    "testImg_path = []\n",
    "for imgs in test_img:\n",
    "    img = os.listdir('./sample_images_mask/test/' + imgs)\n",
    "    for i in img:\n",
    "        testImg_path.append('./sample_images_mask/test/' + imgs + '/' + i)"
   ]
  },
  {
   "cell_type": "code",
   "execution_count": null,
   "metadata": {},
   "outputs": [],
   "source": [
    "# demography 추출\n",
    "\n",
    "train_demographies = DeepFace.analyze(trainImg_path, actions=['age', 'gender', 'race', 'emotion'], enforce_detection=False)\n",
    "test_demographies = DeepFace.analyze(testImg_path, actions=['age', 'gender', 'race', 'emotion'], enforce_detection=False)"
   ]
  },
  {
   "cell_type": "code",
   "execution_count": null,
   "metadata": {},
   "outputs": [],
   "source": [
    "train_identity = []\n",
    "for i in trainImg_path:\n",
    "    train_identity.append(i.split('.')[1].split('train/')[1])\n",
    "\n",
    "test_identity = []\n",
    "for i in testImg_path:\n",
    "    test_identity.append(i.split('.')[1].split('test/')[1])"
   ]
  },
  {
   "cell_type": "code",
   "execution_count": null,
   "metadata": {},
   "outputs": [],
   "source": [
    "age = []\n",
    "gender = []\n",
    "race = []\n",
    "\n",
    "for key, val in train_demographies.items():\n",
    "    age.append(val['age'])\n",
    "    gender.append(val['gender'])\n",
    "    race.append(val['dominant_race'])\n",
    "\n",
    "Traindemo_df = pd.DataFrame()\n",
    "Traindemo_df['id'] = train_identity\n",
    "Traindemo_df['age'] = age\n",
    "Traindemo_df['gender'] = gender\n",
    "Traindemo_df['race'] = race\n",
    "\n",
    "Traindemo_df.to_csv('train_demo_10mask.csv',index=False)"
   ]
  },
  {
   "cell_type": "code",
   "execution_count": null,
   "metadata": {},
   "outputs": [],
   "source": [
    "age = []\n",
    "gender = []\n",
    "race = []\n",
    "\n",
    "for key, val in test_demographies.items():\n",
    "    age.append(val['age'])\n",
    "    gender.append(val['gender'])\n",
    "    race.append(val['dominant_race'])\n",
    "\n",
    "\n",
    "Testdemo_df = pd.DataFrame()\n",
    "Testdemo_df['id'] = test_identity\n",
    "Testdemo_df['age'] = age\n",
    "Testdemo_df['gender'] = gender\n",
    "Testdemo_df['race'] = race\n",
    "\n",
    "Testdemo_df.to_csv('test_demo_10mask.csv',index=False)"
   ]
  }
 ],
 "metadata": {
  "kernelspec": {
   "display_name": "gpu_authenticate_py36",
   "language": "python",
   "name": "gpu_authenticate_py36"
  },
  "language_info": {
   "codemirror_mode": {
    "name": "ipython",
    "version": 3
   },
   "file_extension": ".py",
   "mimetype": "text/x-python",
   "name": "python",
   "nbconvert_exporter": "python",
   "pygments_lexer": "ipython3",
   "version": "3.6.9"
  }
 },
 "nbformat": 4,
 "nbformat_minor": 4
}
